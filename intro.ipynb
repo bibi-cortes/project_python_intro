{
 "cells": [
  {
   "cell_type": "markdown",
   "metadata": {},
   "source": [
    "## 1. Project Overview\n",
    "This project analyzes road traffic data collected by the Department for Transport (DfT) to explore how the COVID-19 pandemic impacted the ratio of private (e.g., cars, vans) to public (e.g., buses, coaches) transportation on Scottish roads. \n",
    "\n",
    "The DfT collects vehicle count data annually between March and October, excluding holidays, to estimate the Annual Average Daily Flow (AADF). This data spans from 2000 to 2023 and offers insights into long-term traffic trends and shifts in transportation modes.\n",
    "\n",
    "## 2. Purpose \n",
    "\n",
    "This project aims to investigate whether the pandemic led to significant changes in the use of private versus public transport. COVID-19 disrupted mobility patterns globally, raising concerns about the safety of shared public spaces and influencing individual preferences for private vehicles. By analyzing trends before, during, and after the pandemic, the study aims to:\n",
    "-   Understand how mobility behaviors adapted in response to public health restrictions.\n",
    "-   Assess whether shifts in transportation preferences have persisted post-pandemic.\n",
    "-   Inform urban planners about potential long-term impacts on infrastructure needs and sustainability goals.\n",
    "\n",
    "This exploration will leverage AADF data to draw meaningful conclusions about how transportation habits in Scotland evolved due to the unique and complex challenges posed by COVID-19.\n",
    "\n",
    "## 3. Resources\n",
    "\n",
    "-   pandas\n",
    "-   numpy \n",
    "-   matplotlib.pyplot \n",
    "-   geopandas\n",
    "-   os\n",
    "-   seaborn\n",
    "-   requests\n",
    "\n",
    "## 4. Data\n",
    "https://storage.googleapis.com/dft-statistics/road-traffic/downloads/rawcount/region_id/dft_rawcount_region_id_3.csv\n",
    "\n",
    "\n",
    "### 5. Methodology\n",
    "\n",
    "The analysis follows these key steps:\n",
    "1. **Data Exploration:** The dataset was examined to identify patterns, trends, and anomalies in vehicle counts over time.\n",
    "2. **Data Selection:** A subset of relevant information focusing on vehicle categories and road types (major and minor) was extracted through dataframes.\n",
    "3. **Handling Missing Data:** Since not all roads are counted every year by the DfT, we addressed missing values using:\n",
    "    -   Interpolation (Regression): To estimate missing values for regular years based on trends in observed data.\n",
    "    -   Extrapolation: To assess the impact of the pandemic, focusing on deviations from pre-COVID trends.\n",
    "    -   Group Analysis: Roads were classified into two major categories: minor roads and major roads. These groups allowed for the derivation of a scaling factor, enabling estimates for years with incomplete or skewed data.\n",
    "\n",
    "\n",
    "### Results\n",
    "\n",
    "### Conclusion\n",
    "\n"
   ]
  },
  {
   "cell_type": "markdown",
   "metadata": {},
   "source": []
  }
 ],
 "metadata": {
  "language_info": {
   "name": "python"
  }
 },
 "nbformat": 4,
 "nbformat_minor": 2
}
